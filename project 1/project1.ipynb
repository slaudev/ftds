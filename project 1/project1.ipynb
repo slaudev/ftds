{
 "cells": [
  {
   "cell_type": "markdown",
   "id": "1455843e",
   "metadata": {},
   "source": [
    "## What this project does:\n",
    "The program returns a list of movies that match with all the genre(s) specified by the user.\n",
    "\n",
    "#### Dataset source: BEST 100 FILMS 2000-2020 from IMDb\n",
    "\n",
    "https://www.imdb.com/list/ls096880821/?sort=moviemeter,asc&st_dt=&mode=detail&page=1&ref_=ttls_vm_dtl\n",
    "\n",
    "#### Prior knowledge applied:\n",
    "1. Read a text file containing 100 movie names and their genres (which can be more than one for a movie) \n",
    "2. A movie is stored in a class\n",
    "3. The 100 best films are stored in a list of Movie objects"
   ]
  },
  {
   "cell_type": "code",
   "execution_count": 5,
   "id": "ffe1b173",
   "metadata": {},
   "outputs": [],
   "source": [
    "# \"abc, def\" -> \"abc/*def\"\n",
    "def separate_genres(str): \n",
    "    startindex = str.find('\"')\n",
    "       \n",
    "    if startindex > -1:\n",
    "        try:\n",
    "            for i in range (startindex+1, len(str)):\n",
    "                if str[i] == '\"':\n",
    "                    endindex = i\n",
    "                    substr = str[startindex:endindex+1]\n",
    "                    return str.replace(substr, substr.replace(\", \", \"/*\"))\n",
    "                    \n",
    "\n",
    "        except IndexError:\n",
    "            print(\"String index error...\")\n",
    "        except e:\n",
    "            print(e)\n",
    "    return str"
   ]
  },
  {
   "cell_type": "code",
   "execution_count": 6,
   "id": "e50f1560",
   "metadata": {},
   "outputs": [],
   "source": [
    "# define a class to store info for a movie\n",
    "class Movie():\n",
    "  def __init__(self, title, genres):\n",
    "    \n",
    "    self.title = title\n",
    "    self.genres = []\n",
    "    \n",
    "    genres = genres.replace('\"', '')\n",
    "    for g in genres.split(\"/*\"):\n",
    "        self.genres.append(g)\n"
   ]
  },
  {
   "cell_type": "code",
   "execution_count": 7,
   "id": "8f6a63b1",
   "metadata": {
    "scrolled": true
   },
   "outputs": [],
   "source": [
    "top100films = []\n",
    "with open('films.csv', 'r') as f:\n",
    "    \n",
    "    lines = f.readlines()\n",
    "    \n",
    "    # disregard headers\n",
    "    lines.pop(0)    \n",
    "    \n",
    "    for line in lines:\n",
    "        line = separate_genres(line).split(',')\n",
    "        top100films.append(Movie(line[1], line[6]))\n",
    "            "
   ]
  },
  {
   "cell_type": "code",
   "execution_count": 8,
   "id": "79137845",
   "metadata": {},
   "outputs": [
    {
     "name": "stdout",
     "output_type": "stream",
     "text": [
      "Genres Available: Drama, Thriller, Action, Comedy, Adventure, Sci-Fi, Romance, Crime, Mystery, Biography, Fantasy, War, History, Family, Horror, Music, Animation, Documentary, Sport\n",
      "\n",
      "Enter genre(s) you're interested in (use commas to separate if more than one) :thriller, comedy\n",
      "('In Bruges', ['Comedy', 'Crime', 'Drama', 'Thriller'])\n"
     ]
    }
   ],
   "source": [
    "moviestosee=[]\n",
    "print(\"Genres Available: Drama, Thriller, Action, Comedy, Adventure, Sci-Fi, Romance, Crime, Mystery, Biography, Fantasy, War, History, Family, Horror, Music, Animation, Documentary, Sport\")\n",
    "print(\"\")\n",
    "choices = input(\"Enter genre(s) you're interested in (use commas to separate if more than one) :\")\n",
    "choices = choices.replace(', ', ',')\n",
    "choices = choices.split(',')\n",
    "u_choices = [c.upper() for c in choices]\n",
    "\n",
    "# str.title() method\n",
    "for movie in top100films:\n",
    "    u_genres = [g.upper() for g in movie.genres]    \n",
    "    \n",
    "    # when genres interested are part of the movie's genres\n",
    "    if all(c in u_genres for c in u_choices):\n",
    "        moviestosee.append((movie.title, movie.genres))\n",
    "\n",
    "if moviestosee:        \n",
    "    for movie in moviestosee:\n",
    "        print(movie)\n",
    "else:\n",
    "    print(\"*** No movies found with matching genres ***\")"
   ]
  },
  {
   "cell_type": "code",
   "execution_count": null,
   "id": "38e53934",
   "metadata": {},
   "outputs": [],
   "source": []
  },
  {
   "cell_type": "code",
   "execution_count": null,
   "id": "7cebc8e5",
   "metadata": {},
   "outputs": [],
   "source": []
  }
 ],
 "metadata": {
  "kernelspec": {
   "display_name": "Python 3 (ipykernel)",
   "language": "python",
   "name": "python3"
  },
  "language_info": {
   "codemirror_mode": {
    "name": "ipython",
    "version": 3
   },
   "file_extension": ".py",
   "mimetype": "text/x-python",
   "name": "python",
   "nbconvert_exporter": "python",
   "pygments_lexer": "ipython3",
   "version": "3.10.7"
  }
 },
 "nbformat": 4,
 "nbformat_minor": 5
}
